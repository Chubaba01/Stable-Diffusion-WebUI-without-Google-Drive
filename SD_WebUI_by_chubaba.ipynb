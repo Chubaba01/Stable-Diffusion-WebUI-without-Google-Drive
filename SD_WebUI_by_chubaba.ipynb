{
  "nbformat": 4,
  "nbformat_minor": 0,
  "metadata": {
    "colab": {
      "provenance": [],
      "collapsed_sections": [
        "ddJYyPjppa9e",
        "kAMBX_RjprA9",
        "vPpBdqzNpxG3",
        "CoAgOXXjp9ZI",
        "6QbEzHPryBTW",
        "vt7u-RVfqFxz",
        "OvfZ2Tikqpuz"
      ],
      "include_colab_link": true
    },
    "kernelspec": {
      "name": "python3",
      "display_name": "Python 3"
    },
    "language_info": {
      "name": "python"
    },
    "accelerator": "GPU",
    "gpuClass": "standard"
  },
  "cells": [
    {
      "cell_type": "markdown",
      "metadata": {
        "id": "view-in-github",
        "colab_type": "text"
      },
      "source": [
        "<a href=\"https://colab.research.google.com/github/Chubaba01/Stable-Diffusion-WebUI-without-Google-Drive/blob/main/SD_WebUI_by_chubaba.ipynb\" target=\"_parent\"><img src=\"https://colab.research.google.com/assets/colab-badge.svg\" alt=\"Open In Colab\"/></a>"
      ]
    },
    {
      "cell_type": "markdown",
      "source": [
        "# **Stable diffusion, python ve istediğin eklentileri kur**\n",
        "\n",
        "\n",
        "\n"
      ],
      "metadata": {
        "id": "ddJYyPjppa9e"
      }
    },
    {
      "cell_type": "code",
      "execution_count": null,
      "metadata": {
        "id": "1wSeFCUvdORV"
      },
      "outputs": [],
      "source": [
        "!pip install --upgrade fastapi==0.90.1\n",
        "\n",
        "# Stable Diffusion WebUI\n",
        "\n",
        "!git clone https://github.com/AUTOMATIC1111/stable-diffusion-webui\n",
        "\n",
        "# Extensions\n",
        "\n",
        "!git clone https://github.com/DominikDoom/a1111-sd-webui-tagcomplete /content/stable-diffusion-webui/extensions/a1111-sd-webui-tagcomplete\n",
        "!git clone https://github.com/aka7774/sd_images_browser /content/stable-diffusion-webui/extensions/sd_images_browser\n",
        "!git clone https://github.com/Mikubill/sd-webui-controlnet /content/stable-diffusion-webui/extensions/sd-webui-controlnet\n",
        "!git clone https://github.com/fkunn1326/openpose-editor /content/stable-diffusion-webui/extensions/openpose-editor"
      ]
    },
    {
      "cell_type": "markdown",
      "source": [
        "# **İstediğin modelleri ve vae'lerini kur**"
      ],
      "metadata": {
        "id": "kAMBX_RjprA9"
      }
    },
    {
      "cell_type": "code",
      "source": [
        "# MODELS\n",
        "\n",
        "!wget https://huggingface.co/SweetLuna/Kenshi/resolve/main/KENSHI%2001/KENSHI01.safetensors\n",
        "!wget https://huggingface.co/andite/pastel-mix/resolve/main/pastelmix-fp32.safetensors\n",
        "!wget https://huggingface.co/gsdf/Counterfeit-V2.5/resolve/main/Counterfeit-V2.5.safetensors\n",
        "!wget https://huggingface.co/iZELX1/Grapefruit/resolve/main/grapefruitv4.safetensors\n",
        "\n",
        "# VAE\n",
        "\n",
        "!wget https://huggingface.co/hakurei/waifu-diffusion-v1-4/resolve/main/vae/kl-f8-anime2.ckpt\n",
        "!wget https://huggingface.co/andite/pastel-mix/resolve/main/pastel-waifu-diffusion.vae.pt\n",
        "!wget https://huggingface.co/gsdf/Counterfeit-V2.5/resolve/main/Counterfeit-V2.5.vae.pt\n",
        "!wget https://huggingface.co/iZELX1/Grapefruit/resolve/main/Grapefruit.vae.pt\n",
        "\n",
        "# ControlNet\n",
        "\n",
        "!wget https://huggingface.co/webui/ControlNet-modules-safetensors/resolve/main/control_canny-fp16.safetensors\n",
        "!wget https://huggingface.co/webui/ControlNet-modules-safetensors/resolve/main/control_depth-fp16.safetensors\n",
        "!wget https://huggingface.co/webui/ControlNet-modules-safetensors/resolve/main/control_openpose-fp16.safetensors\n",
        "!mv \"/content/control_canny-fp16.safetensors\" \"/content/stable-diffusion-webui/extensions/sd-webui-controlnet/models\"\n",
        "!mv \"/content/control_openpose-fp16.safetensors\" \"/content/stable-diffusion-webui/extensions/sd-webui-controlnet/models\"\n",
        "!mv \"/content/control_depth-fp16.safetensors\" \"/content/stable-diffusion-webui/extensions/sd-webui-controlnet/models\""
      ],
      "metadata": {
        "id": "YtAVMe47fBvp"
      },
      "execution_count": null,
      "outputs": []
    },
    {
      "cell_type": "markdown",
      "source": [
        "# **Stable Diffusion'ı çalıştır ve gerekli dosyaları oluştur**\n",
        "1.   En son satırda şu yazınca hücrenin çalışmasını durdur --> To create a public link, set `share=True` in `launch()`."
      ],
      "metadata": {
        "id": "vPpBdqzNpxG3"
      }
    },
    {
      "cell_type": "code",
      "source": [
        "!mv \"/content/Counterfeit-V2.5.safetensors\" \"/content/stable-diffusion-webui/models/Stable-diffusion\"\n",
        "!mv \"/content/Counterfeit-V2.5.vae.pt\" \"/content/stable-diffusion-webui/models/Stable-diffusion\"\n",
        "!mv \"/content/KENSHI01.safetensors\" \"/content/stable-diffusion-webui/models/Stable-diffusion\"\n",
        "!mv \"/content/kl-f8-anime2.ckpt\" \"/content/stable-diffusion-webui/models/Stable-diffusion\"\n",
        "!mv \"/content/pastel-waifu-diffusion.vae.pt\" \"/content/stable-diffusion-webui/models/Stable-diffusion\"\n",
        "!mv \"/content/pastelmix-fp32.safetensors\" \"/content/stable-diffusion-webui/models/Stable-diffusion\"\n",
        "!mv \"/content/grapefruitv4.safetensors\" \"/content/stable-diffusion-webui/models/Stable-diffusion\"\n",
        "!mv \"/content/Grapefruit.vae.pt\" \"/content/stable-diffusion-webui/models/Stable-diffusion\"\n",
        "\n",
        "import os\n",
        "\n",
        "old_name = r\"/content/stable-diffusion-webui/models/Stable-diffusion/kl-f8-anime2.ckpt\"\n",
        "new_name = r\"/content/stable-diffusion-webui/models/Stable-diffusion/KENSHI01.vae.pt\"\n",
        "os.rename(old_name, new_name)\n",
        "\n",
        "old_name = r\"/content/stable-diffusion-webui/models/Stable-diffusion/pastel-waifu-diffusion.vae.pt\"\n",
        "new_name = r\"/content/stable-diffusion-webui/models/Stable-diffusion/pastelmix-fp32.vae.pt\"\n",
        "os.rename(old_name, new_name)\n",
        "\n",
        "old_name = r\"/content/stable-diffusion-webui/models/Stable-diffusion/Grapefruit.vae.pt\"\n",
        "new_name = r\"/content/stable-diffusion-webui/models/Stable-diffusion/grapefruitv4.vae.pt\"\n",
        "os.rename(old_name, new_name)\n",
        "\n",
        "%pip install torch==1.13.1+cu117 torchvision==0.14.1+cu117 torchtext==0.14.1 torchaudio==0.13.1 torchdata==0.5.1 --extra-index-url https://download.pytorch.org/whl/cu117",
        "\n",
        "%cd /content/stable-diffusion-webui",
        "\n",
        "!git checkout 3715ece\n",
        "!COMMANDLINE_ARGS=\"--share --disable-safe-unpickle --no-half-vae --xformers --reinstall-xformers --enable-insecure-extension-access\" REQS_FILE=\"requirements.txt\" python launch.py "
      ],
      "metadata": {
        "id": "l4sA7SkkfeGi"
      },
      "execution_count": null,
      "outputs": []
    },
    {
      "cell_type": "markdown",
      "source": [
        "# **İstediğin embeding, lora ve upscaler'ları indir**"
      ],
      "metadata": {
        "id": "CoAgOXXjp9ZI"
      }
    },
    {
      "cell_type": "code",
      "source": [
        "%cd /content/\n",
        "\n",
        "#EMBEDINGS\n",
        "\n",
        "!wget https://cdn.discordapp.com/attachments/1032948846197747731/1069660323709190195/bad-hands-5.pt\n",
        "!wget https://cdn.discordapp.com/attachments/1032948846197747731/1069660324405452840/vile_prompt3.pt\n",
        "!wget https://cdn.discordapp.com/attachments/1032948846197747731/1069660324720017510/bad_quality.pt\n",
        "!wget https://cdn.discordapp.com/attachments/1032948846197747731/1069660431309864990/bad-image-v2-39000.pt\n",
        "!wget https://huggingface.co/datasets/gsdf/EasyNegative/resolve/main/EasyNegative.pt\n",
        "\n",
        "!mv \"/content/bad-hands-5.pt\" \"/content/stable-diffusion-webui/embeddings\"\n",
        "!mv \"/content/bad-image-v2-39000.pt\" \"/content/stable-diffusion-webui/embeddings\"\n",
        "!mv \"/content/bad_quality.pt\" \"/content/stable-diffusion-webui/embeddings\"\n",
        "!mv \"/content/vile_prompt3.pt\" \"/content/stable-diffusion-webui/embeddings\"\n",
        "!mv \"/content/EasyNegative.pt\" \"/content/stable-diffusion-webui/embeddings\"\n",
        "\n",
        "#LORAS\n",
        "\n",
        "!wget https://huggingface.co/datasets/Nerfgun3/Liang_Xing_LoRA/resolve/main/Liang_Xing.safetensors\n",
        "!wget https://huggingface.co/datasets/Nerfgun3/John_Kafka_LoRA/resolve/main/John_Kafka_hard.safetensors\n",
        "!wget https://huggingface.co/datasets/Nerfgun3/enaic31_LoRA/resolve/main/enaic31_hard.safetensors\n",
        "!wget https://huggingface.co/datasets/Nerfgun3/sakimi-chan_LoRA/resolve/main/Sakimi-Chan_LoRA.safetensors\n",
        "!wget https://huggingface.co/hollowstrawberry/holotard/resolve/main/lora-unified/all%20vtubers%20hll3.1.safetensors\n",
        "\n",
        "\n",
        "!mv \"/content/John_Kafka_hard.safetensors\" \"/content/stable-diffusion-webui/models/Lora\"\n",
        "!mv \"/content/Liang_Xing.safetensors\" \"/content/stable-diffusion-webui/models/Lora\"\n",
        "!mv \"/content/Sakimi-Chan_LoRA.safetensors\" \"/content/stable-diffusion-webui/models/Lora\"\n",
        "!mv \"/content/enaic31_hard.safetensors\" \"/content/stable-diffusion-webui/models/Lora\"\n",
        "!mv \"/content/all vtubers hll3.1.safetensors\" \"/content/stable-diffusion-webui/models/Lora\" \n",
        "\n",
        "#CONFIG\n",
        "\n",
        "!git clone https://github.com/Chubaba01/Stable-Diffusion-WebUI-without-Google-Drive\n",
        "\n",
        "!mv \"/content/Stable-Diffusion-WebUI-without-Google-Drive/config.json\" \"/content/stable-diffusion-webui\"\n",
        "\n",
        "\n",
        "#UPSCALER\n",
        "\n",
        "!wget https://de-next.owncube.com/index.php/s/x99pKzS7TNaErrC/download\n",
        "\n",
        "import os\n",
        "\n",
        "old_name = r\"/content/download\"\n",
        "new_name = r\"/content/4x_fatal_Anime_500000_G.pth\"\n",
        "os.rename(old_name, new_name)\n",
        "\n",
        "!mv \"/content/4x_fatal_Anime_500000_G.pth\" \"/content/stable-diffusion-webui/models/ESRGAN\""
      ],
      "metadata": {
        "id": "z-mcvwjCilRe"
      },
      "execution_count": null,
      "outputs": []
    },
    {
      "cell_type": "markdown",
      "source": [
        "# **Çizdiğiniz resimleri google drive'a kaydetmek için**"
      ],
      "metadata": {
        "id": "6QbEzHPryBTW"
      }
    },
    {
      "cell_type": "code",
      "source": [
        "from google.colab import drive\n",
        "drive.mount('/content/gdrive')\n",
        "\n",
        "!mkdir \"/content/gdrive/MyDrive/AI-images\""
      ],
      "metadata": {
        "id": "svbCsWK9x-8e"
      },
      "execution_count": null,
      "outputs": []
    },
    {
      "cell_type": "markdown",
      "source": [
        "# **Stable Diffusion'ı çalıştır ve kullanmaya başla**\n",
        "1.   Bu adresten kendi anahtarını al --> https://dashboard.ngrok.com/auth\n",
        "2.   Hemen alttaki kod satırından \"--ngrok bu-yazıyı-silip-kendi-anahtarını-yapıştır\" kısmına kendi anahtarını yapıştır\n"
      ],
      "metadata": {
        "id": "vt7u-RVfqFxz"
      }
    },
    {
      "cell_type": "code",
      "source": [
        "%cd /content/stable-diffusion-webui\n",
        "!COMMANDLINE_ARGS=\"--ngrok bu-yazıyı-silip-kendi-anahtarını-yapıştır --skip-torch-cuda-test --ngrok-region eu --disable-safe-unpickle --no-half-vae --xformers --reinstall-xformers --enable-insecure-extension-access\" REQS_FILE=\"requirements.txt\" python launch.py"
      ],
      "metadata": {
        "id": "7Sx4bBH2oDhQ"
      },
      "execution_count": null,
      "outputs": []
    },
    {
      "cell_type": "markdown",
      "source": [
        "# **Google Colab her girişinde farklı bir sanal makina verdiği için dosyaları Google Drive'a yükleyip sonraki çalıştırmalarında oradan başlatmak istersen bu kodu çalıştırıp GitHub sayfamda paylaştığım diğer Google Colab notebook'unu kullan. Yaklaşık 45-50gb drive'ında alan kaplar.**"
      ],
      "metadata": {
        "id": "OvfZ2Tikqpuz"
      }
    },
    {
      "cell_type": "code",
      "source": [
        "!mkdir \"/content/gdrive/MyDrive/My-models\"\n",
        "!cp \"/content/stable-diffusion-webui/models/Stable-diffusion/Counterfeit-V2.5.safetensors\" \"/content/gdrive/MyDrive/My-models\"\n",
        "!cp \"/content/stable-diffusion-webui/models/Stable-diffusion/Counterfeit-V2.5.vae.pt\" \"/content/gdrive/MyDrive/My-models\"\n",
        "!cp \"/content/stable-diffusion-webui/models/Stable-diffusion/KENSHI01.safetensors\" \"/content/gdrive/MyDrive/My-models\"\n",
        "!cp \"/content/stable-diffusion-webui/models/Stable-diffusion/KENSHI01.vae.pt\" \"/content/gdrive/MyDrive/My-models\"\n",
        "!cp \"/content/stable-diffusion-webui/models/Stable-diffusion/pastelmix-fp32.safetensors\" \"/content/gdrive/MyDrive/My-models\"\n",
        "!cp \"/content/stable-diffusion-webui/models/Stable-diffusion/pastelmix-fp32.vae.pt\" \"/content/gdrive/MyDrive/My-models\"\n",
        "!cp \"/content/stable-diffusion-webui/models/Stable-diffusion/grapefruitv4.safetensors\" \"/content/gdrive/MyDrive/My-models\"\n",
        "!cp \"/content/stable-diffusion-webui/models/Stable-diffusion/grapefruitv4.vae.pt\" \"/content/gdrive/MyDrive/My-models\"\n",
        "\n",
        "!mkdir \"/content/gdrive/MyDrive/My-embeddings\"\n",
        "!cp \"/content/stable-diffusion-webui/embeddings/EasyNegative.pt\" \"/content/gdrive/MyDrive/My-embeddings\"\n",
        "!cp \"/content/stable-diffusion-webui/embeddings/bad-hands-5.pt\" \"/content/gdrive/MyDrive/My-embeddings\"\n",
        "!cp \"/content/stable-diffusion-webui/embeddings/bad-image-v2-39000.pt\" \"/content/gdrive/MyDrive/My-embeddings\"\n",
        "!cp \"/content/stable-diffusion-webui/embeddings/bad_quality.pt\" \"/content/gdrive/MyDrive/My-embeddings\"\n",
        "!cp \"/content/stable-diffusion-webui/embeddings/vile_prompt3.pt\" \"/content/gdrive/MyDrive/My-embeddings\"\n",
        "\n",
        "!mkdir \"/content/gdrive/MyDrive/My-loras\"\n",
        "!cp \"/content/stable-diffusion-webui/models/Lora/John_Kafka_hard.safetensors\" \"/content/gdrive/MyDrive/My-loras\"\n",
        "!cp \"/content/stable-diffusion-webui/models/Lora/Liang_Xing.safetensors\" \"/content/gdrive/MyDrive/My-loras\"\n",
        "!cp \"/content/stable-diffusion-webui/models/Lora/Sakimi-Chan_LoRA.safetensors\" \"/content/gdrive/MyDrive/My-loras\"\n",
        "!cp \"/content/stable-diffusion-webui/models/Lora/enaic31_hard.safetensors\" \"/content/gdrive/MyDrive/My-loras\"\n",
        "!cp \"/content/stable-diffusion-webui/models/Lora/all vtubers hll3.1.safetensors\" \"/content/gdrive/MyDrive/My-loras\"\n",
        "\n",
        "!mkdir \"/content/gdrive/MyDrive/Upscaler\"\n",
        "!cp \"/content/stable-diffusion-webui/models/ESRGAN/4x_fatal_Anime_500000_G.pth\" \"/content/gdrive/MyDrive/Upscaler\"\n",
        "\n",
        "!mkdir \"/content/gdrive/MyDrive/ControlNet\"\n",
        "!cp \"/content/stable-diffusion-webui/extensions/sd-webui-controlnet/models/control_canny-fp16.safetensors\" \"/content/gdrive/MyDrive/ControlNet\"\n",
        "!cp \"/content/stable-diffusion-webui/extensions/sd-webui-controlnet/models/control_openpose-fp16.safetensors\" \"/content/gdrive/MyDrive/ControlNet\"\n",
        "!cp \"/content/stable-diffusion-webui/extensions/sd-webui-controlnet/models/control_depth-fp16.safetensors\" \"/content/gdrive/MyDrive/ControlNet\"\n",
        "\n",
        "!mkdir \"/content/gdrive/MyDrive/My-Config\"\n",
        "!cp \"/content/stable-diffusion-webui/config.json\" \"/content/gdrive/MyDrive/My-Config\""
      ],
      "metadata": {
        "id": "c55BuIUOk_Qz"
      },
      "execution_count": null,
      "outputs": []
    }
  ]
}
